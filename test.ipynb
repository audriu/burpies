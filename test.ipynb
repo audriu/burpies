{
 "cells": [
  {
   "metadata": {
    "ExecuteTime": {
     "end_time": "2025-04-30T13:44:27.790723Z",
     "start_time": "2025-04-30T13:44:27.787894Z"
    }
   },
   "cell_type": "code",
   "source": "from inferring import test_image, load_model, predict_image_class",
   "id": "a73b76c7e380508c",
   "outputs": [],
   "execution_count": 7
  },
  {
   "metadata": {
    "ExecuteTime": {
     "end_time": "2025-04-30T13:48:39.494129Z",
     "start_time": "2025-04-30T13:48:39.456856Z"
    }
   },
   "cell_type": "code",
   "source": [
    "global model\n",
    "if not model:\n",
    "    model = load_model()\n",
    "    print(\"Model loaded successfully.\")\n",
    "else:\n",
    "    print(\"Model already loaded.\")"
   ],
   "id": "b2f9f3a9e6eac209",
   "outputs": [
    {
     "ename": "NameError",
     "evalue": "name 'model' is not defined",
     "output_type": "error",
     "traceback": [
      "\u001B[31m---------------------------------------------------------------------------\u001B[39m",
      "\u001B[31mNameError\u001B[39m                                 Traceback (most recent call last)",
      "\u001B[36mCell\u001B[39m\u001B[36m \u001B[39m\u001B[32mIn[10]\u001B[39m\u001B[32m, line 2\u001B[39m\n\u001B[32m      1\u001B[39m \u001B[38;5;28;01mglobal\u001B[39;00m model\n\u001B[32m----> \u001B[39m\u001B[32m2\u001B[39m \u001B[38;5;28;01mif\u001B[39;00m \u001B[38;5;129;01mnot\u001B[39;00m \u001B[43mmodel\u001B[49m:\n\u001B[32m      3\u001B[39m     model = load_model()\n\u001B[32m      4\u001B[39m     \u001B[38;5;28mprint\u001B[39m(\u001B[33m\"\u001B[39m\u001B[33mModel loaded successfully.\u001B[39m\u001B[33m\"\u001B[39m)\n",
      "\u001B[31mNameError\u001B[39m: name 'model' is not defined"
     ]
    }
   ],
   "execution_count": 10
  },
  {
   "metadata": {},
   "cell_type": "code",
   "outputs": [],
   "execution_count": null,
   "source": [
    "#testuojam\n",
    "\n",
    "# atsispaudzia\n",
    "image_path = 'test_data/ats1.jpeg'\n",
    "test_image(model, image_path)\n",
    "image_path = 'test_data/ats2.jpeg'\n",
    "test_image(model, image_path)\n",
    "\n",
    "print(\"=======================\")\n",
    "\n",
    "# stovi\n",
    "image_path = 'test_data/stov1.jpg'\n",
    "test_image(model, image_path)\n",
    "image_path = 'test_data/stov2.jpg'\n",
    "test_image(model, image_path)"
   ],
   "id": "initial_id"
  },
  {
   "metadata": {},
   "cell_type": "code",
   "outputs": [],
   "execution_count": null,
   "source": [
    "#testuojam su savo duomenimis\n",
    "\n",
    "# atsispaudzia\n",
    "test_image(model, \"content/pushups/DSC_0535.JPG\")\n",
    "test_image(model, \"content/pushups/DSC_0533.JPG\")\n",
    "\n",
    "print(\"=======================\")\n",
    "\n",
    "# stovi\n",
    "test_image(model, \"content/standing/20250430_141003.jpg\")\n",
    "test_image(model, \"content/standing/20250430_141036.jpg\")"
   ],
   "id": "cfc954169ec64f0a"
  }
 ],
 "metadata": {
  "kernelspec": {
   "display_name": "Python 3",
   "language": "python",
   "name": "python3"
  },
  "language_info": {
   "codemirror_mode": {
    "name": "ipython",
    "version": 2
   },
   "file_extension": ".py",
   "mimetype": "text/x-python",
   "name": "python",
   "nbconvert_exporter": "python",
   "pygments_lexer": "ipython2",
   "version": "2.7.6"
  }
 },
 "nbformat": 4,
 "nbformat_minor": 5
}
