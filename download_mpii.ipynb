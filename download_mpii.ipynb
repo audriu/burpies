{
 "cells": [
  {
   "cell_type": "code",
   "metadata": {
    "colab": {
     "base_uri": "https://localhost:8080/"
    },
    "collapsed": true,
    "executionInfo": {
     "elapsed": 617800,
     "status": "ok",
     "timestamp": 1745049867043,
     "user": {
      "displayName": "Audrius",
      "userId": "02601183058820550030"
     },
     "user_tz": -180
    },
    "id": "iiaISNBmyRmD",
    "outputId": "d024ba74-caf8-4408-f913-f70029e46daf",
    "ExecuteTime": {
     "end_time": "2025-04-19T17:35:21.217686Z",
     "start_time": "2025-04-19T17:08:21.877638Z"
    }
   },
   "source": [
    "#https://www.mpi-inf.mpg.de/departments/computer-vision-and-machine-learning/software-and-datasets/mpii-human-pose-dataset\n",
    "!mkdir -p content/\n",
    "!rm -rf sample_data\n",
    "!echo \"Downloading ⬇️⬇️⬇️\"\n",
    "!wget -P content/ https://datasets.d2.mpi-inf.mpg.de/andriluka14cvpr/mpii_human_pose_v1.tar.gz content/\n",
    "!echo \"Data downloaded ⬇️\"\n",
    "!wget -P content/ https://datasets.d2.mpi-inf.mpg.de/andriluka14cvpr/mpii_human_pose_v1_u12_2.zip content/\n",
    "!echo \"Annotations downloaded ⤵️\"\n",
    "\n",
    "!echo \"Untaring 🤐\"\n",
    "!tar zxf content/mpii_human_pose_v1.tar.gz -C content/\n",
    "!echo \"Untared 🤐\"\n",
    "\n",
    "!echo \"Unziping 🤐\"\n",
    "!unzip content/mpii_human_pose_v1_u12_2.zip -d content/\n",
    "!echo \"Unziped 🤐\"\n",
    "\n",
    "!echo \"Data ready ✅\""
   ],
   "outputs": [
    {
     "name": "stdout",
     "output_type": "stream",
     "text": [
      "Downloading ⬇️⬇️⬇️\r\n",
      "--2025-04-19 20:08:22--  https://datasets.d2.mpi-inf.mpg.de/andriluka14cvpr/mpii_human_pose_v1.tar.gz\r\n",
      "Resolving datasets.d2.mpi-inf.mpg.de (datasets.d2.mpi-inf.mpg.de)... 139.19.206.177\r\n",
      "Connecting to datasets.d2.mpi-inf.mpg.de (datasets.d2.mpi-inf.mpg.de)|139.19.206.177|:443... connected.\r\n",
      "HTTP request sent, awaiting response... 200 OK\r\n",
      "Length: 12088943206 (11G) [application/x-gzip]\r\n",
      "Saving to: ‘content/mpii_human_pose_v1.tar.gz’\r\n",
      "\r\n",
      "mpii_human_pose_v1. 100%[===================>]  11.26G  26.7MB/s    in 25m 51s \r\n",
      "\r\n",
      "2025-04-19 20:34:13 (7.43 MB/s) - ‘content/mpii_human_pose_v1.tar.gz’ saved [12088943206/12088943206]\r\n",
      "\r\n",
      "--2025-04-19 20:34:13--  http://content/\r\n",
      "Resolving content (content)... failed: Name or service not known.\r\n",
      "wget: unable to resolve host address ‘content’\r\n",
      "FINISHED --2025-04-19 20:34:13--\r\n",
      "Total wall clock time: 25m 51s\r\n",
      "Downloaded: 1 files, 11G in 25m 51s (7.43 MB/s)\r\n",
      "Data downloaded ⬇️\r\n",
      "--2025-04-19 20:34:13--  https://datasets.d2.mpi-inf.mpg.de/andriluka14cvpr/mpii_human_pose_v1_u12_2.zip\r\n",
      "Resolving datasets.d2.mpi-inf.mpg.de (datasets.d2.mpi-inf.mpg.de)... 139.19.206.177\r\n",
      "Connecting to datasets.d2.mpi-inf.mpg.de (datasets.d2.mpi-inf.mpg.de)|139.19.206.177|:443... connected.\r\n",
      "HTTP request sent, awaiting response... 200 OK\r\n",
      "Length: 12340483 (12M) [application/zip]\r\n",
      "Saving to: ‘content/mpii_human_pose_v1_u12_2.zip’\r\n",
      "\r\n",
      "mpii_human_pose_v1_ 100%[===================>]  11.77M  32.1MB/s    in 0.4s    \r\n",
      "\r\n",
      "2025-04-19 20:34:14 (32.1 MB/s) - ‘content/mpii_human_pose_v1_u12_2.zip’ saved [12340483/12340483]\r\n",
      "\r\n",
      "--2025-04-19 20:34:14--  http://content/\r\n",
      "Resolving content (content)... failed: Name or service not known.\r\n",
      "wget: unable to resolve host address ‘content’\r\n",
      "FINISHED --2025-04-19 20:34:14--\r\n",
      "Total wall clock time: 0.6s\r\n",
      "Downloaded: 1 files, 12M in 0.4s (32.1 MB/s)\r\n",
      "Annotations downloaded ⤵️\r\n",
      "Untaring 🤐\r\n",
      "Untared 🤐\r\n",
      "Unziping 🤐\r\n",
      "Archive:  content/mpii_human_pose_v1_u12_2.zip\r\n",
      "   creating: content/mpii_human_pose_v1_u12_2/\r\n",
      "  inflating: content/mpii_human_pose_v1_u12_2/bsd.txt  \r\n",
      "  inflating: content/mpii_human_pose_v1_u12_2/mpii_human_pose_v1_u12_1.mat  \r\n",
      "  inflating: content/mpii_human_pose_v1_u12_2/README.md  \r\n",
      "Unziped 🤐\r\n",
      "Data ready ✅\r\n"
     ]
    }
   ],
   "execution_count": 1
  }
 ],
 "metadata": {
  "colab": {
   "authorship_tag": "ABX9TyNile9U0808ofRr1kr5fuAO",
   "provenance": [
    {
     "file_id": "1eB0nuAC7S_9DNy-XH2Q67CO4SeWXb75L",
     "timestamp": 1744650477063
    }
   ]
  },
  "kernelspec": {
   "display_name": "burpies_env",
   "language": "python",
   "name": "python3"
  },
  "language_info": {
   "codemirror_mode": {
    "name": "ipython",
    "version": 3
   },
   "file_extension": ".py",
   "mimetype": "text/x-python",
   "name": "python",
   "nbconvert_exporter": "python",
   "pygments_lexer": "ipython3",
   "version": "3.12.9"
  }
 },
 "nbformat": 4,
 "nbformat_minor": 0
}
