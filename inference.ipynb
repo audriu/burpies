{
 "cells": [
  {
   "cell_type": "code",
   "id": "initial_id",
   "metadata": {
    "collapsed": true,
    "ExecuteTime": {
     "end_time": "2025-04-27T14:13:00.808903Z",
     "start_time": "2025-04-27T14:12:59.774532Z"
    }
   },
   "source": [
    "import torch\n",
    "from models import BiTLikeModel\n",
    "\n",
    "# Load the model checkpoint\n",
    "checkpoint = torch.load('best.pt', map_location=torch.device('cpu'))\n",
    "\n",
    "# Initialize the model\n",
    "model = BiTLikeModel(2)  # Replace with your model class\n",
    "\n",
    "# Get the model's state_dict\n",
    "model_state_dict = model.state_dict()\n",
    "\n",
    "# Filter out mismatched keys (e.g., fc layer)\n",
    "filtered_checkpoint = {k: v for k, v in checkpoint.items() if k in model_state_dict and model_state_dict[k].shape == v.shape}\n",
    "\n",
    "# Load the compatible weights\n",
    "model_state_dict.update(filtered_checkpoint)\n",
    "model.load_state_dict(model_state_dict)\n",
    "\n",
    "# Reinitialize the fc layer\n",
    "torch.nn.init.xavier_uniform_(model.fc.weight)\n",
    "torch.nn.init.zeros_(model.fc.bias)\n",
    "\n",
    "# Set the model to evaluation mode\n",
    "model.eval()\n",
    "\n",
    "print(\"Model loaded successfully!\")"
   ],
   "outputs": [
    {
     "name": "stdout",
     "output_type": "stream",
     "text": [
      "Model loaded successfully!\n"
     ]
    }
   ],
   "execution_count": 3
  },
  {
   "metadata": {
    "ExecuteTime": {
     "end_time": "2025-04-27T14:13:03.532139Z",
     "start_time": "2025-04-27T14:13:02.794453Z"
    }
   },
   "cell_type": "code",
   "source": [
    "import torch\n",
    "from torchvision import transforms\n",
    "from PIL import Image\n",
    "\n",
    "def predict_image_class(model, image_path):\n",
    "    \"\"\"\n",
    "    Predicts the class of an image using the given model.\n",
    "\n",
    "    Args:\n",
    "        model (torch.nn.Module): The trained model for inference.\n",
    "        image_path (str): Path to the image file.\n",
    "\n",
    "    Returns:\n",
    "        int: Predicted class index.\n",
    "    \"\"\"\n",
    "    # Define the image preprocessing pipeline\n",
    "    preprocess = transforms.Compose([\n",
    "        transforms.Resize((224, 224)),  # Resize to match the model's input size\n",
    "        transforms.ToTensor(),         # Convert image to tensor\n",
    "        transforms.Normalize(mean=[0.485, 0.456, 0.406], std=[0.229, 0.224, 0.225])  # Normalize\n",
    "    ])\n",
    "\n",
    "    # Load and preprocess the image\n",
    "    image = Image.open(image_path).convert('RGB')\n",
    "    input_tensor = preprocess(image).unsqueeze(0)  # Add batch dimension\n",
    "\n",
    "    # Perform inference\n",
    "    with torch.no_grad():\n",
    "        output = model(input_tensor)\n",
    "        probabilities = torch.softmax(output, dim=1)\n",
    "\n",
    "    # Get the predicted class\n",
    "    predicted_class = torch.argmax(probabilities, dim=1).item()\n",
    "    return predicted_class"
   ],
   "id": "cf141f303eb887af",
   "outputs": [],
   "execution_count": 4
  },
  {
   "metadata": {
    "ExecuteTime": {
     "end_time": "2025-04-27T14:13:10.307576Z",
     "start_time": "2025-04-27T14:13:10.301767Z"
    }
   },
   "cell_type": "code",
   "source": [
    "import cv2\n",
    "import os\n",
    "import time\n",
    "\n",
    "def capture_and_predict(model, capture_interval=5):\n",
    "    \"\"\"\n",
    "    Automatically captures images from the webcam at regular intervals and predicts their class using the given model.\n",
    "\n",
    "    Args:\n",
    "        model (torch.nn.Module): The trained model for inference.\n",
    "        capture_interval (int): Time interval (in seconds) between captures.\n",
    "\n",
    "    Returns:\n",
    "        None\n",
    "    \"\"\"\n",
    "    # Initialize the webcam\n",
    "    cap = cv2.VideoCapture(0)\n",
    "    if not cap.isOpened():\n",
    "        raise Exception(\"Could not open webcam\")\n",
    "\n",
    "    print(\"Capturing images automatically. Press 'Esc' to exit.\")\n",
    "\n",
    "    while True:\n",
    "        ret, frame = cap.read()\n",
    "        if not ret:\n",
    "            print(\"Failed to grab frame\")\n",
    "            break\n",
    "\n",
    "        # Display the webcam feed\n",
    "        cv2.imshow(\"Webcam\", frame)\n",
    "\n",
    "        # Save the captured frame as a temporary image\n",
    "        temp_image_path = \"temp_image.jpg\"\n",
    "        cv2.imwrite(temp_image_path, frame)\n",
    "        print(\"Image captured!\")\n",
    "\n",
    "        # Predict the class of the captured image\n",
    "        predicted_class = predict_image_class(model, temp_image_path)\n",
    "        print(f\"Predicted class: {predicted_class}\")\n",
    "\n",
    "        # Remove the temporary image\n",
    "        os.remove(temp_image_path)\n",
    "\n",
    "        # Wait for the specified interval or until 'Esc' is pressed\n",
    "        if cv2.waitKey(capture_interval * 1000) == 27:  # Esc key to exit\n",
    "            break\n",
    "\n",
    "    # Release the webcam and close the window\n",
    "    cap.release()\n",
    "    cv2.destroyAllWindows()"
   ],
   "id": "4ab91ce9607dd5d0",
   "outputs": [],
   "execution_count": 6
  },
  {
   "metadata": {
    "ExecuteTime": {
     "end_time": "2025-04-27T14:13:55.811138Z",
     "start_time": "2025-04-27T14:13:50.610936Z"
    }
   },
   "cell_type": "code",
   "source": "capture_and_predict(model)",
   "id": "7a4fbbaccb65390",
   "outputs": [
    {
     "name": "stdout",
     "output_type": "stream",
     "text": [
      "Capturing images automatically. Press 'Esc' to exit.\n",
      "Image captured!\n",
      "Predicted class: 0\n"
     ]
    },
    {
     "ename": "KeyboardInterrupt",
     "evalue": "",
     "output_type": "error",
     "traceback": [
      "\u001B[31m---------------------------------------------------------------------------\u001B[39m",
      "\u001B[31mKeyboardInterrupt\u001B[39m                         Traceback (most recent call last)",
      "\u001B[36mCell\u001B[39m\u001B[36m \u001B[39m\u001B[32mIn[8]\u001B[39m\u001B[32m, line 1\u001B[39m\n\u001B[32m----> \u001B[39m\u001B[32m1\u001B[39m \u001B[43mcapture_and_predict\u001B[49m\u001B[43m(\u001B[49m\u001B[43mmodel\u001B[49m\u001B[43m)\u001B[49m\n",
      "\u001B[36mCell\u001B[39m\u001B[36m \u001B[39m\u001B[32mIn[6]\u001B[39m\u001B[32m, line 45\u001B[39m, in \u001B[36mcapture_and_predict\u001B[39m\u001B[34m(model, capture_interval)\u001B[39m\n\u001B[32m     42\u001B[39m     os.remove(temp_image_path)\n\u001B[32m     44\u001B[39m     \u001B[38;5;66;03m# Wait for the specified interval or until 'Esc' is pressed\u001B[39;00m\n\u001B[32m---> \u001B[39m\u001B[32m45\u001B[39m     \u001B[38;5;28;01mif\u001B[39;00m \u001B[43mcv2\u001B[49m\u001B[43m.\u001B[49m\u001B[43mwaitKey\u001B[49m\u001B[43m(\u001B[49m\u001B[43mcapture_interval\u001B[49m\u001B[43m \u001B[49m\u001B[43m*\u001B[49m\u001B[43m \u001B[49m\u001B[32;43m1000\u001B[39;49m\u001B[43m)\u001B[49m == \u001B[32m27\u001B[39m:  \u001B[38;5;66;03m# Esc key to exit\u001B[39;00m\n\u001B[32m     46\u001B[39m         \u001B[38;5;28;01mbreak\u001B[39;00m\n\u001B[32m     48\u001B[39m \u001B[38;5;66;03m# Release the webcam and close the window\u001B[39;00m\n",
      "\u001B[31mKeyboardInterrupt\u001B[39m: "
     ]
    }
   ],
   "execution_count": 8
  },
  {
   "metadata": {
    "ExecuteTime": {
     "end_time": "2025-04-27T14:07:53.813192Z",
     "start_time": "2025-04-27T14:07:53.753500Z"
    }
   },
   "cell_type": "code",
   "source": [
    "# Check if webcam is available\n",
    "import cv2\n",
    "\n",
    "cap = cv2.VideoCapture(0)\n",
    "if not cap.isOpened():\n",
    "    print(\"Could not open webcam\")\n",
    "else:\n",
    "    print(\"Webcam initialized successfully\")\n",
    "cap.release()"
   ],
   "id": "811f4ef833f98cbb",
   "outputs": [
    {
     "name": "stdout",
     "output_type": "stream",
     "text": [
      "Webcam initialized successfully\n"
     ]
    }
   ],
   "execution_count": 15
  }
 ],
 "metadata": {
  "kernelspec": {
   "display_name": "Python 3",
   "language": "python",
   "name": "python3"
  },
  "language_info": {
   "codemirror_mode": {
    "name": "ipython",
    "version": 2
   },
   "file_extension": ".py",
   "mimetype": "text/x-python",
   "name": "python",
   "nbconvert_exporter": "python",
   "pygments_lexer": "ipython2",
   "version": "2.7.6"
  }
 },
 "nbformat": 4,
 "nbformat_minor": 5
}
