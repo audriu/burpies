{
 "cells": [
  {
   "cell_type": "code",
   "id": "initial_id",
   "metadata": {
    "collapsed": true,
    "ExecuteTime": {
     "end_time": "2025-04-27T13:49:21.788177Z",
     "start_time": "2025-04-27T13:49:21.658824Z"
    }
   },
   "source": [
    "import torch\n",
    "from models import BiTLikeModel\n",
    "\n",
    "# Load the model checkpoint\n",
    "checkpoint = torch.load('best.pt', map_location=torch.device('cpu'))\n",
    "\n",
    "# Initialize the model\n",
    "model = BiTLikeModel(2)  # Replace with your model class\n",
    "\n",
    "# Get the model's state_dict\n",
    "model_state_dict = model.state_dict()\n",
    "\n",
    "# Filter out mismatched keys (e.g., fc layer)\n",
    "filtered_checkpoint = {k: v for k, v in checkpoint.items() if k in model_state_dict and model_state_dict[k].shape == v.shape}\n",
    "\n",
    "# Load the compatible weights\n",
    "model_state_dict.update(filtered_checkpoint)\n",
    "model.load_state_dict(model_state_dict)\n",
    "\n",
    "# Reinitialize the fc layer\n",
    "torch.nn.init.xavier_uniform_(model.fc.weight)\n",
    "torch.nn.init.zeros_(model.fc.bias)\n",
    "\n",
    "# Set the model to evaluation mode\n",
    "model.eval()\n",
    "\n",
    "print(\"Model loaded successfully!\")"
   ],
   "outputs": [
    {
     "name": "stdout",
     "output_type": "stream",
     "text": [
      "Model loaded successfully!\n"
     ]
    }
   ],
   "execution_count": 5
  },
  {
   "metadata": {
    "ExecuteTime": {
     "end_time": "2025-04-27T13:52:30.585327Z",
     "start_time": "2025-04-27T13:52:30.575955Z"
    }
   },
   "cell_type": "code",
   "source": [
    "import torch\n",
    "from torchvision import transforms\n",
    "from PIL import Image\n",
    "\n",
    "def predict_image_class(model, image_path):\n",
    "    \"\"\"\n",
    "    Predicts the class of an image using the given model.\n",
    "\n",
    "    Args:\n",
    "        model (torch.nn.Module): The trained model for inference.\n",
    "        image_path (str): Path to the image file.\n",
    "\n",
    "    Returns:\n",
    "        int: Predicted class index.\n",
    "    \"\"\"\n",
    "    # Define the image preprocessing pipeline\n",
    "    preprocess = transforms.Compose([\n",
    "        transforms.Resize((224, 224)),  # Resize to match the model's input size\n",
    "        transforms.ToTensor(),         # Convert image to tensor\n",
    "        transforms.Normalize(mean=[0.485, 0.456, 0.406], std=[0.229, 0.224, 0.225])  # Normalize\n",
    "    ])\n",
    "\n",
    "    # Load and preprocess the image\n",
    "    image = Image.open(image_path).convert('RGB')\n",
    "    input_tensor = preprocess(image).unsqueeze(0)  # Add batch dimension\n",
    "\n",
    "    # Perform inference\n",
    "    with torch.no_grad():\n",
    "        output = model(input_tensor)\n",
    "        probabilities = torch.softmax(output, dim=1)\n",
    "\n",
    "    # Get the predicted class\n",
    "    predicted_class = torch.argmax(probabilities, dim=1).item()\n",
    "    return predicted_class"
   ],
   "id": "cf141f303eb887af",
   "outputs": [],
   "execution_count": 7
  }
 ],
 "metadata": {
  "kernelspec": {
   "display_name": "Python 3",
   "language": "python",
   "name": "python3"
  },
  "language_info": {
   "codemirror_mode": {
    "name": "ipython",
    "version": 2
   },
   "file_extension": ".py",
   "mimetype": "text/x-python",
   "name": "python",
   "nbconvert_exporter": "python",
   "pygments_lexer": "ipython2",
   "version": "2.7.6"
  }
 },
 "nbformat": 4,
 "nbformat_minor": 5
}
