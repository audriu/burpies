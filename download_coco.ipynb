{
 "cells": [
  {
   "cell_type": "code",
   "metadata": {
    "colab": {
     "base_uri": "https://localhost:8080/"
    },
    "collapsed": true,
    "executionInfo": {
     "elapsed": 617800,
     "status": "ok",
     "timestamp": 1745049867043,
     "user": {
      "displayName": "Audrius",
      "userId": "02601183058820550030"
     },
     "user_tz": -180
    },
    "id": "iiaISNBmyRmD",
    "outputId": "d024ba74-caf8-4408-f913-f70029e46daf",
    "ExecuteTime": {
     "end_time": "2025-04-20T19:44:41.690328Z",
     "start_time": "2025-04-20T18:28:42.826628Z"
    }
   },
   "source": [
    "#https://cocodataset.org/#download\n",
    "!mkdir -p content/coco/\n",
    "!rm -rf sample_data\n",
    "!echo \"Downloading ⬇️⬇️⬇️\"\n",
    "!wget -P content/coco/ http://images.cocodataset.org/zips/train2017.zip content/coco/\n",
    "!echo \" Train data downloaded ⬇️\"\n",
    "!wget -P content/coco/ http://images.cocodataset.org/zips/val2017.zip content/coco/\n",
    "!echo \"Val data downloaded ⬇️\"\n",
    "!wget -P content/coco/ http://images.cocodataset.org/zips/test2017.zip content/coco/\n",
    "!echo \"Test data downloaded ⬇️\"\n",
    "!wget -P content/coco/ http://images.cocodataset.org/annotations/stuff_annotations_trainval2017.zip content/coco/\n",
    "!echo \"Annotations downloaded ⤵️\""
   ],
   "outputs": [
    {
     "name": "stdout",
     "output_type": "stream",
     "text": [
      "Downloading ⬇️⬇️⬇️\r\n",
      "--2025-04-20 21:28:43--  http://images.cocodataset.org/zips/train2017.zip\r\n",
      "Resolving images.cocodataset.org (images.cocodataset.org)... 52.216.211.89, 52.216.208.73, 3.5.30.243, ...\r\n",
      "Connecting to images.cocodataset.org (images.cocodataset.org)|52.216.211.89|:80... connected.\r\n",
      "HTTP request sent, awaiting response... 200 OK\r\n",
      "Length: 19336861798 (18G) [application/zip]\r\n",
      "Saving to: ‘content/coco/train2017.zip’\r\n",
      "\r\n",
      "train2017.zip       100%[===================>]  18.01G  5.22MB/s    in 55m 11s \r\n",
      "\r\n",
      "2025-04-20 22:23:54 (5.57 MB/s) - ‘content/coco/train2017.zip’ saved [19336861798/19336861798]\r\n",
      "\r\n",
      "--2025-04-20 22:23:54--  http://content/coco/\r\n",
      "Resolving content (content)... failed: Name or service not known.\r\n",
      "wget: unable to resolve host address ‘content’\r\n",
      "FINISHED --2025-04-20 22:23:54--\r\n",
      "Total wall clock time: 55m 11s\r\n",
      "Downloaded: 1 files, 18G in 55m 11s (5.57 MB/s)\r\n",
      " Train data downloaded ⬇️\r\n",
      "--2025-04-20 22:23:54--  http://images.cocodataset.org/zips/val2017.zip\r\n",
      "Resolving images.cocodataset.org (images.cocodataset.org)... 54.231.132.161, 16.182.103.209, 3.5.24.217, ...\r\n",
      "Connecting to images.cocodataset.org (images.cocodataset.org)|54.231.132.161|:80... connected.\r\n",
      "HTTP request sent, awaiting response... 200 OK\r\n",
      "Length: 815585330 (778M) [application/zip]\r\n",
      "Saving to: ‘content/coco/val2017.zip’\r\n",
      "\r\n",
      "val2017.zip         100%[===================>] 777.80M  7.27MB/s    in 1m 57s  \r\n",
      "\r\n",
      "2025-04-20 22:25:51 (6.66 MB/s) - ‘content/coco/val2017.zip’ saved [815585330/815585330]\r\n",
      "\r\n",
      "--2025-04-20 22:25:51--  http://content/coco/\r\n",
      "Resolving content (content)... failed: Name or service not known.\r\n",
      "wget: unable to resolve host address ‘content’\r\n",
      "FINISHED --2025-04-20 22:25:51--\r\n",
      "Total wall clock time: 1m 57s\r\n",
      "Downloaded: 1 files, 778M in 1m 57s (6.66 MB/s)\r\n",
      "Val data downloaded ⬇️\r\n",
      "--2025-04-20 22:25:51--  http://images.cocodataset.org/zips/test2017.zip\r\n",
      "Resolving images.cocodataset.org (images.cocodataset.org)... 3.5.25.221, 3.5.25.25, 52.217.119.9, ...\r\n",
      "Connecting to images.cocodataset.org (images.cocodataset.org)|3.5.25.221|:80... connected.\r\n",
      "HTTP request sent, awaiting response... 200 OK\r\n",
      "Length: 6646970404 (6.2G) [application/zip]\r\n",
      "Saving to: ‘content/coco/test2017.zip’\r\n",
      "\r\n",
      "test2017.zip        100%[===================>]   6.19G  5.64MB/s    in 15m 54s \r\n",
      "\r\n",
      "2025-04-20 22:41:46 (6.65 MB/s) - ‘content/coco/test2017.zip’ saved [6646970404/6646970404]\r\n",
      "\r\n",
      "--2025-04-20 22:41:46--  http://content/coco/\r\n",
      "Resolving content (content)... failed: Name or service not known.\r\n",
      "wget: unable to resolve host address ‘content’\r\n",
      "FINISHED --2025-04-20 22:41:46--\r\n",
      "Total wall clock time: 15m 54s\r\n",
      "Downloaded: 1 files, 6.2G in 15m 54s (6.65 MB/s)\r\n",
      "Test data downloaded ⬇️\r\n",
      "--2025-04-20 22:41:46--  http://images.cocodataset.org/annotations/stuff_annotations_trainval2017.zip\r\n",
      "Resolving images.cocodataset.org (images.cocodataset.org)... 52.216.208.33, 16.15.193.122, 52.217.166.137, ...\r\n",
      "Connecting to images.cocodataset.org (images.cocodataset.org)|52.216.208.33|:80... connected.\r\n",
      "HTTP request sent, awaiting response... 200 OK\r\n",
      "Length: 1148688564 (1.1G) [application/zip]\r\n",
      "Saving to: ‘content/coco/stuff_annotations_trainval2017.zip’\r\n",
      "\r\n",
      "stuff_annotations_t 100%[===================>]   1.07G  11.4MB/s    in 2m 54s  \r\n",
      "\r\n",
      "2025-04-20 22:44:41 (6.28 MB/s) - ‘content/coco/stuff_annotations_trainval2017.zip’ saved [1148688564/1148688564]\r\n",
      "\r\n",
      "--2025-04-20 22:44:41--  http://content/coco/\r\n",
      "Resolving content (content)... failed: Name or service not known.\r\n",
      "wget: unable to resolve host address ‘content’\r\n",
      "FINISHED --2025-04-20 22:44:41--\r\n",
      "Total wall clock time: 2m 55s\r\n",
      "Downloaded: 1 files, 1.1G in 2m 54s (6.28 MB/s)\r\n",
      "Annotations downloaded ⤵️\r\n"
     ]
    }
   ],
   "execution_count": 1
  },
  {
   "metadata": {
    "ExecuteTime": {
     "end_time": "2025-04-20T19:57:34.886459Z",
     "start_time": "2025-04-20T19:54:03.834248Z"
    }
   },
   "cell_type": "code",
   "source": [
    "!echo \"Unziping 1 🪐\"\n",
    "!unzip content/coco/train2017.zip -d content/coco/ 1> /dev/null\n",
    "!echo \"Unziped 1 🕸️\"\n",
    "\n",
    "!echo \"Unziping 2 🪐\"\n",
    "!unzip content/coco/test2017.zip -d content/coco/ 1> /dev/null\n",
    "!echo \"Unziped 2 🕸️\"\n",
    "\n",
    "!echo \"Unziping 3 🪐\"\n",
    "!unzip content/coco/val2017.zip -d content/coco/ 1> /dev/null\n",
    "!echo \"Unziped 3 🕸️\"\n",
    "\n",
    "!echo \"Unziping 4 🪐\"\n",
    "!unzip content/coco/stuff_annotations_trainval2017.zip -d content/coco/ 1> /dev/null\n",
    "!echo \"Unziped 4 🕸️\"\n",
    "\n",
    "!echo \"Data ready ✅\""
   ],
   "outputs": [
    {
     "name": "stdout",
     "output_type": "stream",
     "text": [
      "Unziping 1 🪐\r\n",
      "Unziped 1 🕸️\r\n",
      "Unziping 1 🪐\r\n",
      "Unziped 1 🕸️\r\n",
      "Unziping 1 🪐\r\n",
      "Unziped 1 🕸️\r\n",
      "Unziping 1 🪐\r\n",
      "Unziped 1 🕸️\r\n",
      "Data ready ✅\r\n"
     ]
    }
   ],
   "execution_count": 1
  }
 ],
 "metadata": {
  "colab": {
   "authorship_tag": "ABX9TyNile9U0808ofRr1kr5fuAO",
   "provenance": [
    {
     "file_id": "1eB0nuAC7S_9DNy-XH2Q67CO4SeWXb75L",
     "timestamp": 1744650477063
    }
   ]
  },
  "kernelspec": {
   "display_name": "burpies_env",
   "language": "python",
   "name": "python3"
  },
  "language_info": {
   "codemirror_mode": {
    "name": "ipython",
    "version": 3
   },
   "file_extension": ".py",
   "mimetype": "text/x-python",
   "name": "python",
   "nbconvert_exporter": "python",
   "pygments_lexer": "ipython3",
   "version": "3.12.9"
  }
 },
 "nbformat": 4,
 "nbformat_minor": 0
}
