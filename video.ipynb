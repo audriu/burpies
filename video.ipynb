{
 "cells": [
  {
   "cell_type": "code",
   "id": "26036e9d2d142098",
   "metadata": {
    "ExecuteTime": {
     "end_time": "2025-05-11T15:32:27.668487Z",
     "start_time": "2025-05-11T15:32:25.268124Z"
    }
   },
   "source": [
    "import torchvision\n",
    "from inferring import load_model, predict_image_class\n",
    "\n",
    "#uzkraunam modeli\n",
    "model_loaded = load_model(\"resnet50.pt\", torchvision.models.resnet50)\n"
   ],
   "outputs": [
    {
     "name": "stdout",
     "output_type": "stream",
     "text": [
      "Using device-------------------: mps\n"
     ]
    },
    {
     "name": "stderr",
     "output_type": "stream",
     "text": [
      "/Users/audrius/development/burpies/.venv/lib/python3.12/site-packages/torchvision/models/_utils.py:135: UserWarning: Using 'weights' as positional parameter(s) is deprecated since 0.13 and may be removed in the future. Please use keyword parameter(s) instead.\n",
      "  warnings.warn(\n",
      "/Users/audrius/development/burpies/.venv/lib/python3.12/site-packages/torchvision/models/_utils.py:223: UserWarning: Arguments other than a weight enum or `None` for 'weights' are deprecated since 0.13 and may be removed in the future. The current behavior is equivalent to passing `weights=ResNet50_Weights.IMAGENET1K_V1`. You can also use `weights=ResNet50_Weights.DEFAULT` to get the most up-to-date weights.\n",
      "  warnings.warn(msg)\n"
     ]
    },
    {
     "name": "stdout",
     "output_type": "stream",
     "text": [
      "Model loaded successfully!\n"
     ]
    }
   ],
   "execution_count": 1
  },
  {
   "cell_type": "code",
   "id": "811f4ef833f98cbb",
   "metadata": {
    "ExecuteTime": {
     "end_time": "2025-05-11T15:32:29.447729Z",
     "start_time": "2025-05-11T15:32:27.747662Z"
    }
   },
   "source": [
    "# Check if webcam is available\n",
    "import cv2\n",
    "\n",
    "cap = cv2.VideoCapture(0)\n",
    "if not cap.isOpened():\n",
    "    print(\"Could not open webcam\")\n",
    "else:\n",
    "    print(\"Webcam initialized successfully\")\n",
    "cap.release()"
   ],
   "outputs": [
    {
     "name": "stdout",
     "output_type": "stream",
     "text": [
      "Webcam initialized successfully\n"
     ]
    }
   ],
   "execution_count": 2
  },
  {
   "cell_type": "code",
   "id": "4ab91ce9607dd5d0",
   "metadata": {
    "ExecuteTime": {
     "end_time": "2025-05-11T15:32:29.468576Z",
     "start_time": "2025-05-11T15:32:29.464447Z"
    }
   },
   "source": [
    "import cv2\n",
    "import os\n",
    "from inferring import count_burpies\n",
    "\n",
    "def capture_and_predict(model, capture_interval=5):\n",
    "    \"\"\"\n",
    "    Automatically captures images from the webcam at regular intervals and predicts their class using the given model.\n",
    "\n",
    "    Args:\n",
    "        model (torch.nn.Module): The trained model for inference.\n",
    "        capture_interval (int): Time interval (in seconds) between captures.\n",
    "\n",
    "    Returns:\n",
    "        None\n",
    "    \"\"\"\n",
    "    # Initialize the webcam\n",
    "    cap = cv2.VideoCapture(0)\n",
    "    if not cap.isOpened():\n",
    "        raise Exception(\"Could not open webcam\")\n",
    "\n",
    "    print(\"Capturing images automatically. Press 'Esc' to exit.\")\n",
    "\n",
    "    while True:\n",
    "        ret, frame = cap.read()\n",
    "        if not ret:\n",
    "            print(\"Failed to grab frame\")\n",
    "            break\n",
    "\n",
    "        # Display the webcam feed\n",
    "        cv2.imshow(\"Webcam\", frame)\n",
    "\n",
    "        # Save the captured frame as a temporary image\n",
    "        temp_image_path = \"/tmp/temp_image.jpg\"\n",
    "        cv2.imwrite(temp_image_path, frame)\n",
    "        #print(\"Image captured!\")\n",
    "\n",
    "        # Predict the class of the captured image\n",
    "        predicted_class, predicted_probability = predict_image_class(model, temp_image_path)\n",
    "        print(f\"Predicted class: {predicted_class}\")\n",
    "        print(f\"Count burpies: {count_burpies(predicted_class)}\")\n",
    "\n",
    "        # play bell when prediction is 1\n",
    "        if predicted_class == 0:\n",
    "            os.system('play -nq --null --channels 1 synth 0.1 sine 444')\n",
    "        else:\n",
    "            os.system('play -nq --null --channels 1 synth 0.1 sine 1888')\n",
    "            os.system('play -nq --null --channels 1 synth 0.1 sine 444')\n",
    "            os.system('play -nq --null --channels 1 synth 0.1 sine 1888')\n",
    "\n",
    "        # Remove the temporary image\n",
    "        os.remove(temp_image_path)\n",
    "\n",
    "        # Wait for the specified interval or until 'Esc' is pressed\n",
    "        if cv2.waitKey(capture_interval * 100) == 27:  # Esc key to exit\n",
    "            break\n",
    "\n",
    "    # Release the webcam and close the window\n",
    "    cap.release()\n",
    "    cv2.destroyAllWindows()"
   ],
   "outputs": [],
   "execution_count": 3
  },
  {
   "cell_type": "code",
   "id": "7a4fbbaccb65390",
   "metadata": {
    "jupyter": {
     "is_executing": true
    },
    "ExecuteTime": {
     "end_time": "2025-05-11T15:33:29.378421Z",
     "start_time": "2025-05-11T15:32:29.479861Z"
    }
   },
   "source": "capture_and_predict(model_loaded)",
   "outputs": [
    {
     "name": "stdout",
     "output_type": "stream",
     "text": [
      "Capturing images automatically. Press 'Esc' to exit.\n",
      "Predicted class index: 1, Probability: 0.9951\n",
      "Predicted class: 1\n",
      "Count burpies: 0\n",
      "Predicted class index: 1, Probability: 0.9996\n",
      "Predicted class: 1\n",
      "Count burpies: 0\n",
      "Predicted class index: 1, Probability: 0.9999\n",
      "Predicted class: 1\n",
      "Count burpies: 0\n",
      "Predicted class index: 0, Probability: 0.9593\n",
      "Predicted class: 0\n",
      "Count burpies: 0\n",
      "Predicted class index: 0, Probability: 0.9783\n",
      "Predicted class: 0\n",
      "Count burpies: 0\n",
      "Predicted class index: 1, Probability: 1.0000\n",
      "Predicted class: 1\n",
      "Count burpies: 1\n",
      "Predicted class index: 1, Probability: 0.9999\n",
      "Predicted class: 1\n",
      "Count burpies: 1\n",
      "Predicted class index: 0, Probability: 0.9790\n",
      "Predicted class: 0\n",
      "Count burpies: 1\n",
      "Predicted class index: 1, Probability: 0.9993\n",
      "Predicted class: 1\n",
      "Count burpies: 2\n",
      "Predicted class index: 0, Probability: 0.9980\n",
      "Predicted class: 0\n",
      "Count burpies: 2\n",
      "Predicted class index: 0, Probability: 0.9988\n",
      "Predicted class: 0\n",
      "Count burpies: 2\n"
     ]
    }
   ],
   "execution_count": null
  }
 ],
 "metadata": {
  "kernelspec": {
   "display_name": "Python 3",
   "language": "python",
   "name": "python3"
  },
  "language_info": {
   "codemirror_mode": {
    "name": "ipython",
    "version": 2
   },
   "file_extension": ".py",
   "mimetype": "text/x-python",
   "name": "python",
   "nbconvert_exporter": "python",
   "pygments_lexer": "ipython2",
   "version": "2.7.6"
  }
 },
 "nbformat": 4,
 "nbformat_minor": 5
}
