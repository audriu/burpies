{
 "cells": [
  {
   "cell_type": "code",
   "id": "26036e9d2d142098",
   "metadata": {
    "ExecuteTime": {
     "end_time": "2025-05-11T12:27:32.375194Z",
     "start_time": "2025-05-11T12:27:30.610770Z"
    }
   },
   "source": [
    "from inferring import load_model, model_loaded, predict_image_class\n",
    "from models import BiTLikeModel\n",
    "\n",
    "#uzkraunam modeli\n",
    "model_loaded = load_model(\"BiTLikeModel.pt\", BiTLikeModel)\n"
   ],
   "outputs": [
    {
     "name": "stdout",
     "output_type": "stream",
     "text": [
      "Using device-------------------: mps\n",
      "Model loaded successfully!\n"
     ]
    }
   ],
   "execution_count": 1
  },
  {
   "cell_type": "code",
   "id": "811f4ef833f98cbb",
   "metadata": {
    "ExecuteTime": {
     "end_time": "2025-05-11T12:27:34.216111Z",
     "start_time": "2025-05-11T12:27:32.467540Z"
    }
   },
   "source": [
    "# Check if webcam is available\n",
    "import cv2\n",
    "\n",
    "cap = cv2.VideoCapture(0)\n",
    "if not cap.isOpened():\n",
    "    print(\"Could not open webcam\")\n",
    "else:\n",
    "    print(\"Webcam initialized successfully\")\n",
    "cap.release()"
   ],
   "outputs": [
    {
     "name": "stdout",
     "output_type": "stream",
     "text": [
      "Webcam initialized successfully\n"
     ]
    }
   ],
   "execution_count": 2
  },
  {
   "cell_type": "code",
   "id": "4ab91ce9607dd5d0",
   "metadata": {
    "ExecuteTime": {
     "end_time": "2025-05-11T12:27:34.231233Z",
     "start_time": "2025-05-11T12:27:34.227948Z"
    }
   },
   "source": [
    "import cv2\n",
    "import os\n",
    "from inferring import count_burpies\n",
    "\n",
    "def capture_and_predict(model, capture_interval=5):\n",
    "    \"\"\"\n",
    "    Automatically captures images from the webcam at regular intervals and predicts their class using the given model.\n",
    "\n",
    "    Args:\n",
    "        model (torch.nn.Module): The trained model for inference.\n",
    "        capture_interval (int): Time interval (in seconds) between captures.\n",
    "\n",
    "    Returns:\n",
    "        None\n",
    "    \"\"\"\n",
    "    # Initialize the webcam\n",
    "    cap = cv2.VideoCapture(0)\n",
    "    if not cap.isOpened():\n",
    "        raise Exception(\"Could not open webcam\")\n",
    "\n",
    "    print(\"Capturing images automatically. Press 'Esc' to exit.\")\n",
    "\n",
    "    while True:\n",
    "        ret, frame = cap.read()\n",
    "        if not ret:\n",
    "            print(\"Failed to grab frame\")\n",
    "            break\n",
    "\n",
    "        # Display the webcam feed\n",
    "        cv2.imshow(\"Webcam\", frame)\n",
    "\n",
    "        # Save the captured frame as a temporary image\n",
    "        temp_image_path = \"/tmp/temp_image.jpg\"\n",
    "        cv2.imwrite(temp_image_path, frame)\n",
    "        print(\"Image captured!\")\n",
    "\n",
    "        # Predict the class of the captured image\n",
    "        predicted_class = predict_image_class(model, temp_image_path)\n",
    "        print(f\"Predicted class: {predicted_class}\")\n",
    "        print(f\"Count burpies: {count_burpies(predicted_class)}\")\n",
    "\n",
    "        # play bell when prediction is 1\n",
    "        if predicted_class == 0:\n",
    "            os.system('play -nq --null --channels 1 synth 0.1 sine 444')\n",
    "        else:\n",
    "            os.system('play -nq --null --channels 1 synth 0.1 sine 1888')\n",
    "            os.system('play -nq --null --channels 1 synth 0.1 sine 444')\n",
    "            os.system('play -nq --null --channels 1 synth 0.1 sine 1888')\n",
    "\n",
    "        # Remove the temporary image\n",
    "        os.remove(temp_image_path)\n",
    "\n",
    "        # Wait for the specified interval or until 'Esc' is pressed\n",
    "        if cv2.waitKey(capture_interval * 1000) == 27:  # Esc key to exit\n",
    "            break\n",
    "\n",
    "    # Release the webcam and close the window\n",
    "    cap.release()\n",
    "    cv2.destroyAllWindows()"
   ],
   "outputs": [],
   "execution_count": 3
  },
  {
   "cell_type": "code",
   "id": "7a4fbbaccb65390",
   "metadata": {
    "jupyter": {
     "is_executing": true
    },
    "ExecuteTime": {
     "end_time": "2025-05-11T12:28:33.334794Z",
     "start_time": "2025-05-11T12:27:34.247534Z"
    }
   },
   "source": "capture_and_predict(model_loaded)",
   "outputs": [
    {
     "name": "stdout",
     "output_type": "stream",
     "text": [
      "Capturing images automatically. Press 'Esc' to exit.\n",
      "Image captured!\n",
      "Using device: mps\n",
      "output: tensor([[-1.8396,  2.0861]], device='mps:0')\n",
      "probabilities: tensor([[0.0193, 0.9807]], device='mps:0')\n",
      "Predicted class index: 1, Probability: 0.9807\n",
      "Predicted class: (1, 0.9806532859802246)\n",
      "Count burpies: 0\n",
      "Image captured!\n",
      "Using device: mps\n",
      "output: tensor([[-2.8133,  3.0875]], device='mps:0')\n",
      "probabilities: tensor([[0.0027, 0.9973]], device='mps:0')\n",
      "Predicted class index: 1, Probability: 0.9973\n",
      "Predicted class: (1, 0.9972702860832214)\n",
      "Count burpies: 0\n",
      "Image captured!\n",
      "Using device: mps\n",
      "output: tensor([[-2.6790,  2.9429]], device='mps:0')\n",
      "probabilities: tensor([[0.0036, 0.9964]], device='mps:0')\n",
      "Predicted class index: 1, Probability: 0.9964\n",
      "Predicted class: (1, 0.9963950514793396)\n",
      "Count burpies: 0\n",
      "Image captured!\n",
      "Using device: mps\n",
      "output: tensor([[ 2.1028, -2.1734]], device='mps:0')\n",
      "probabilities: tensor([[0.9863, 0.0137]], device='mps:0')\n",
      "Predicted class index: 0, Probability: 0.9863\n",
      "Predicted class: (0, 0.9862964153289795)\n",
      "Count burpies: 0\n",
      "Image captured!\n",
      "Using device: mps\n",
      "output: tensor([[ 1.0682, -1.0781]], device='mps:0')\n",
      "probabilities: tensor([[0.8953, 0.1047]], device='mps:0')\n",
      "Predicted class index: 0, Probability: 0.8953\n",
      "Predicted class: (0, 0.8953140377998352)\n",
      "Count burpies: 0\n",
      "Image captured!\n",
      "Using device: mps\n",
      "output: tensor([[ 0.8793, -0.8934]], device='mps:0')\n",
      "probabilities: tensor([[0.8548, 0.1452]], device='mps:0')\n",
      "Predicted class index: 0, Probability: 0.8548\n",
      "Predicted class: (0, 0.854793906211853)\n",
      "Count burpies: 0\n",
      "Image captured!\n",
      "Using device: mps\n",
      "output: tensor([[-1.6519,  1.8487]], device='mps:0')\n",
      "probabilities: tensor([[0.0293, 0.9707]], device='mps:0')\n",
      "Predicted class index: 1, Probability: 0.9707\n",
      "Predicted class: (1, 0.9707072973251343)\n",
      "Count burpies: 0\n",
      "Image captured!\n",
      "Using device: mps\n",
      "output: tensor([[-1.8074,  1.9620]], device='mps:0')\n",
      "probabilities: tensor([[0.0225, 0.9775]], device='mps:0')\n",
      "Predicted class index: 1, Probability: 0.9775\n",
      "Predicted class: (1, 0.9774544835090637)\n",
      "Count burpies: 0\n",
      "Image captured!\n",
      "Using device: mps\n",
      "output: tensor([[ 1.7047, -1.7065]], device='mps:0')\n",
      "probabilities: tensor([[0.9681, 0.0319]], device='mps:0')\n",
      "Predicted class index: 0, Probability: 0.9681\n",
      "Predicted class: (0, 0.968052327632904)\n",
      "Count burpies: 0\n",
      "Image captured!\n",
      "Using device: mps\n",
      "output: tensor([[ 1.5349, -1.5680]], device='mps:0')\n",
      "probabilities: tensor([[0.9570, 0.0430]], device='mps:0')\n",
      "Predicted class index: 0, Probability: 0.9570\n",
      "Predicted class: (0, 0.9570139050483704)\n",
      "Count burpies: 0\n",
      "Image captured!\n",
      "Using device: mps\n",
      "output: tensor([[ 2.0196, -2.0685]], device='mps:0')\n",
      "probabilities: tensor([[0.9835, 0.0165]], device='mps:0')\n",
      "Predicted class index: 0, Probability: 0.9835\n",
      "Predicted class: (0, 0.9835055470466614)\n",
      "Count burpies: 0\n"
     ]
    }
   ],
   "execution_count": null
  }
 ],
 "metadata": {
  "kernelspec": {
   "display_name": "Python 3",
   "language": "python",
   "name": "python3"
  },
  "language_info": {
   "codemirror_mode": {
    "name": "ipython",
    "version": 2
   },
   "file_extension": ".py",
   "mimetype": "text/x-python",
   "name": "python",
   "nbconvert_exporter": "python",
   "pygments_lexer": "ipython2",
   "version": "2.7.6"
  }
 },
 "nbformat": 4,
 "nbformat_minor": 5
}
