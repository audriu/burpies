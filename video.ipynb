{
 "cells": [
  {
   "metadata": {},
   "cell_type": "code",
   "outputs": [],
   "execution_count": null,
   "source": [
    "global model\n",
    "if not model:\n",
    "    model = load_model()\n",
    "    print(\"Model loaded successfully.\")\n",
    "else:\n",
    "    print(\"Model already loaded.\")"
   ],
   "id": "3c9f76dafcd33092"
  },
  {
   "metadata": {},
   "cell_type": "code",
   "outputs": [],
   "execution_count": 7,
   "source": [
    "import cv2\n",
    "import os\n",
    "import time\n",
    "\n",
    "def capture_and_predict(model, capture_interval=5):\n",
    "    \"\"\"\n",
    "    Automatically captures images from the webcam at regular intervals and predicts their class using the given model.\n",
    "\n",
    "    Args:\n",
    "        model (torch.nn.Module): The trained model for inference.\n",
    "        capture_interval (int): Time interval (in seconds) between captures.\n",
    "\n",
    "    Returns:\n",
    "        None\n",
    "    \"\"\"\n",
    "    # Initialize the webcam\n",
    "    cap = cv2.VideoCapture(0)\n",
    "    if not cap.isOpened():\n",
    "        raise Exception(\"Could not open webcam\")\n",
    "\n",
    "    print(\"Capturing images automatically. Press 'Esc' to exit.\")\n",
    "\n",
    "    while True:\n",
    "        ret, frame = cap.read()\n",
    "        if not ret:\n",
    "            print(\"Failed to grab frame\")\n",
    "            break\n",
    "\n",
    "        # Display the webcam feed\n",
    "        cv2.imshow(\"Webcam\", frame)\n",
    "\n",
    "        # Save the captured frame as a temporary image\n",
    "        temp_image_path = \"/tmp/temp_image.jpg\"\n",
    "        cv2.imwrite(temp_image_path, frame)\n",
    "        print(\"Image captured!\")\n",
    "\n",
    "        # Predict the class of the captured image\n",
    "        predicted_class = predict_image_class(model, temp_image_path)\n",
    "        print(f\"Predicted class: {predicted_class}\")\n",
    "\n",
    "        # play bell when prediction is 1\n",
    "        if predicted_class == 1:\n",
    "            os.system('play -nq --null --channels 1 synth 0.1 sine 444')\n",
    "        else:\n",
    "            os.system('play -nq --null --channels 1 synth 0.2 sine 1888')\n",
    "\n",
    "        # Remove the temporary image\n",
    "        os.remove(temp_image_path)\n",
    "\n",
    "        # Wait for the specified interval or until 'Esc' is pressed\n",
    "        if cv2.waitKey(capture_interval * 1000) == 27:  # Esc key to exit\n",
    "            break\n",
    "\n",
    "    # Release the webcam and close the window\n",
    "    cap.release()\n",
    "    cv2.destroyAllWindows()"
   ],
   "id": "4ab91ce9607dd5d0"
  },
  {
   "metadata": {
    "ExecuteTime": {
     "start_time": "2025-04-28T16:34:28.231478Z"
    }
   },
   "cell_type": "code",
   "source": "capture_and_predict(model)",
   "id": "7a4fbbaccb65390",
   "outputs": [
    {
     "name": "stdout",
     "output_type": "stream",
     "text": [
      "Capturing images automatically. Press 'Esc' to exit.\n",
      "Image captured!\n",
      "output: tensor([[ 0.0187, -0.2293]])\n",
      "probabilities: tensor([[0.5617, 0.4383]])\n",
      "predicted_class: 0\n",
      "Predicted class: 0\n",
      "Image captured!\n",
      "output: tensor([[ 0.0463, -0.0603]])\n",
      "probabilities: tensor([[0.5266, 0.4734]])\n",
      "predicted_class: 0\n",
      "Predicted class: 0\n",
      "Image captured!\n",
      "output: tensor([[ 0.0420, -0.1515]])\n",
      "probabilities: tensor([[0.5482, 0.4518]])\n",
      "predicted_class: 0\n",
      "Predicted class: 0\n",
      "Image captured!\n",
      "output: tensor([[ 0.0126, -0.1336]])\n",
      "probabilities: tensor([[0.5365, 0.4635]])\n",
      "predicted_class: 0\n",
      "Predicted class: 0\n",
      "Image captured!\n",
      "output: tensor([[ 0.0127, -0.1338]])\n",
      "probabilities: tensor([[0.5365, 0.4635]])\n",
      "predicted_class: 0\n",
      "Predicted class: 0\n",
      "Image captured!\n",
      "output: tensor([[ 0.0182, -0.1520]])\n",
      "probabilities: tensor([[0.5425, 0.4575]])\n",
      "predicted_class: 0\n",
      "Predicted class: 0\n",
      "Image captured!\n",
      "output: tensor([[ 0.0224, -0.1560]])\n",
      "probabilities: tensor([[0.5445, 0.4555]])\n",
      "predicted_class: 0\n",
      "Predicted class: 0\n",
      "Image captured!\n",
      "output: tensor([[ 0.0080, -0.1221]])\n",
      "probabilities: tensor([[0.5325, 0.4675]])\n",
      "predicted_class: 0\n",
      "Predicted class: 0\n",
      "Image captured!\n",
      "output: tensor([[ 0.0170, -0.1727]])\n",
      "probabilities: tensor([[0.5473, 0.4527]])\n",
      "predicted_class: 0\n",
      "Predicted class: 0\n",
      "Image captured!\n",
      "output: tensor([[ 0.0144, -0.1931]])\n",
      "probabilities: tensor([[0.5517, 0.4483]])\n",
      "predicted_class: 0\n",
      "Predicted class: 0\n",
      "Image captured!\n",
      "output: tensor([[ 0.0298, -0.0528]])\n",
      "probabilities: tensor([[0.5206, 0.4794]])\n",
      "predicted_class: 0\n",
      "Predicted class: 0\n",
      "Image captured!\n",
      "output: tensor([[ 0.0332, -0.0755]])\n",
      "probabilities: tensor([[0.5272, 0.4728]])\n",
      "predicted_class: 0\n",
      "Predicted class: 0\n"
     ]
    }
   ],
   "execution_count": null
  },
  {
   "metadata": {
    "ExecuteTime": {
     "end_time": "2025-04-30T13:21:59.945821Z",
     "start_time": "2025-04-30T13:21:59.156760Z"
    }
   },
   "cell_type": "code",
   "source": [
    "import os\n",
    "os.system('play -nq --null --channels 1 synth 0.5 sine 1840')"
   ],
   "id": "6b21bafadecabfc",
   "outputs": [
    {
     "name": "stderr",
     "output_type": "stream",
     "text": [
      "play WARN alsa: can't encode 0-bit Unknown or not applicable\n"
     ]
    },
    {
     "data": {
      "text/plain": [
       "0"
      ]
     },
     "execution_count": 9,
     "metadata": {},
     "output_type": "execute_result"
    }
   ],
   "execution_count": 9
  },
  {
   "metadata": {
    "ExecuteTime": {
     "end_time": "2025-04-30T13:27:50.948538Z",
     "start_time": "2025-04-30T13:27:50.844252Z"
    }
   },
   "cell_type": "code",
   "source": [
    "# Check if webcam is available\n",
    "import cv2\n",
    "\n",
    "cap = cv2.VideoCapture(0)\n",
    "if not cap.isOpened():\n",
    "    print(\"Could not open webcam\")\n",
    "else:\n",
    "    print(\"Webcam initialized successfully\")\n",
    "cap.release()"
   ],
   "id": "811f4ef833f98cbb",
   "outputs": [
    {
     "name": "stdout",
     "output_type": "stream",
     "text": [
      "Could not open webcam\n"
     ]
    },
    {
     "name": "stderr",
     "output_type": "stream",
     "text": [
      "[ WARN:0@0.010] global cap_v4l.cpp:913 open VIDEOIO(V4L2:/dev/video0): can't open camera by index\n",
      "[ERROR:0@0.010] global obsensor_uvc_stream_channel.cpp:158 getStreamChannelGroup Camera index out of range\n"
     ]
    }
   ],
   "execution_count": 11
  }
 ],
 "metadata": {
  "kernelspec": {
   "display_name": "Python 3",
   "language": "python",
   "name": "python3"
  },
  "language_info": {
   "codemirror_mode": {
    "name": "ipython",
    "version": 2
   },
   "file_extension": ".py",
   "mimetype": "text/x-python",
   "name": "python",
   "nbconvert_exporter": "python",
   "pygments_lexer": "ipython2",
   "version": "2.7.6"
  }
 },
 "nbformat": 4,
 "nbformat_minor": 5
}
